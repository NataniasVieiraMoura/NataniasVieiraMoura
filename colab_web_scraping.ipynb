{
  "nbformat": 4,
  "nbformat_minor": 0,
  "metadata": {
    "colab": {
      "provenance": [],
      "authorship_tag": "ABX9TyM7H8PVHWqCEEu33n5otL5d",
      "include_colab_link": true
    },
    "kernelspec": {
      "name": "python3",
      "display_name": "Python 3"
    },
    "language_info": {
      "name": "python"
    }
  },
  "cells": [
    {
      "cell_type": "markdown",
      "metadata": {
        "id": "view-in-github",
        "colab_type": "text"
      },
      "source": [
        "<a href=\"https://colab.research.google.com/github/NataniasVieiraMoura/NataniasVieiraMoura/blob/main/colab_web_scraping.ipynb\" target=\"_parent\"><img src=\"https://colab.research.google.com/assets/colab-badge.svg\" alt=\"Open In Colab\"/></a>"
      ]
    },
    {
      "cell_type": "markdown",
      "source": [
        "# Importando Bibliotecas necessárias"
      ],
      "metadata": {
        "id": "VIsMTbLbtm9a"
      }
    },
    {
      "cell_type": "code",
      "execution_count": null,
      "metadata": {
        "id": "ncgpVLGmqSrn"
      },
      "outputs": [],
      "source": [
        "from bs4 import BeautifulSoup as bs\n",
        "import requests as rq\n",
        "import re"
      ]
    },
    {
      "cell_type": "markdown",
      "source": [
        "# Pegando Html do site"
      ],
      "metadata": {
        "id": "C_RCKoxLt3ed"
      }
    },
    {
      "cell_type": "code",
      "source": [
        "html_cplt = rq.get(\"https://webscraping.andreregino.com.br/\")#Uma div com o site html\n",
        "html_fmt = bs(html_cplt.content)#Outra div com os dados front-end do site coletados pela bs\n",
        "print(html_fmt.prettify())#exibir conteúdo do site.(.prettify --> esse exibe da forma como está no site)"
      ],
      "metadata": {
        "id": "QQu2fHyktbGe"
      },
      "execution_count": null,
      "outputs": []
    },
    {
      "cell_type": "code",
      "source": [
        "#primeiro um variavel recebe a primeira tag h2 --> .find('h2')\n",
        "#depois seleciono dessa só o texto dentro da tag --> .text\n",
        "pmr_h2 = html_fmt.find('h2').text\n",
        "#exibir a variavel\n",
        "print(pmr_h2)"
      ],
      "metadata": {
        "id": "gnKZxjCrzCs6"
      },
      "execution_count": null,
      "outputs": []
    },
    {
      "cell_type": "code",
      "source": [
        "#mas como receber todos os h2?\n",
        "#primeiro um variavel recebe todas as tag h2 --> .find_all('h2')\n",
        "todas_h2 = html_fmt.find_all('h2')\n",
        "todas_h1 = html_fmt.find_all('h1')\n",
        "#exibir todas as h2 em uma lista indexada cardinalmente [0,1,2,3...]\n",
        "for todas_h2 in todas_h2:\n",
        "  print(todas_h2.text)\n",
        "print(todas_h2)\n",
        "for todas_h1 in todas_h1:\n",
        "  print(todas_h1.text)"
      ],
      "metadata": {
        "id": "G75kn9fez8JV"
      },
      "execution_count": null,
      "outputs": []
    },
    {
      "cell_type": "code",
      "source": [
        "\n",
        "preço = html_fmt.find_all(class_=\"card-title pricing-card-title\")\n",
        "#Eu procuro todas as classes_(não esqueça do _ para class html) card_title pricing_card title\n",
        "#E tudo isso vai para uma variavel preço\n",
        "#Exibir a variavel\n",
        "print(preço)\n",
        "p_rqst = html_fmt.find(id=\"pre-requisite-section\")\n",
        "#Uma variavel recebe id=\"pre_requisite-section\"\n",
        "#Exibir variavel\n",
        "print(p_rqst)"
      ],
      "metadata": {
        "id": "MobgxypT-TOL"
      },
      "execution_count": null,
      "outputs": []
    },
    {
      "cell_type": "code",
      "source": [
        "e_da_lista = html_fmt.find('section', class_='content-section').ul.li\n",
        "|# armazenando var pela selection ul li\n",
        "print(e_da_lista)"
      ],
      "metadata": {
        "id": "oaRcNsz_Z7wo"
      },
      "execution_count": null,
      "outputs": []
    },
    {
      "cell_type": "code",
      "source": [
        "quarto_elelis = html_fmt.select('.content-section ul li:nth-of-type(4)')\n",
        "# armazenando o quarto elemento ordenado\n",
        "print(quarto_elelis)"
      ],
      "metadata": {
        "id": "lca19jbiaV-k"
      },
      "execution_count": null,
      "outputs": []
    }
  ]
}